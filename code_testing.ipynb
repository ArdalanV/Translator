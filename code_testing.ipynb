{
 "cells": [
  {
   "cell_type": "code",
   "execution_count": 71,
   "metadata": {},
   "outputs": [
    {
     "name": "stdout",
     "output_type": "stream",
     "text": [
      "\n",
      "\n",
      "\n",
      "\n",
      "result = []\n",
      "result.añadir(3)\n",
      "result.añadir(6)\n",
      "\n"
     ]
    }
   ],
   "source": [
    "import sys\n",
    "import os\n",
    "import tokenize\n",
    "import io\n",
    "import importlib\n",
    "# Adds the parent directory to Python's module path\n",
    "sys.path.append(os.path.abspath('../'))\n",
    "\n",
    "from scripts import translations\n",
    "importlib.reload(translations)\n",
    "\n",
    "\n",
    "mapping = translations.Spanish[0]\n",
    "\n",
    "code2 = \"\"\"\n",
    "def function(big_func):\n",
    "    val = big_func(big_func(big_func(3)))\n",
    "    val = ((2 and (True)) or not (not True or ((not False or False))))\n",
    "    return val\n",
    "\n",
    "def higher_order():\n",
    "    def lower_order():\n",
    "        def even_lower_order(val):\n",
    "            return val\n",
    "        return even_lower_order\n",
    "    return lower_order\n",
    "\n",
    "print(function(bool))\n",
    "print(True)\n",
    "\n",
    "val = higher_order()()(True)\n",
    "\"\"\"\n",
    "\n",
    "code_1 = \"if brother and (not (not True (False))) and (not (brother or brother)):\"\n",
    "\n",
    "code = \"\"\"\n",
    "\n",
    "\n",
    "\n",
    "result = []\n",
    "result.append(3)\n",
    "result.append(6)\n",
    "\"\"\"\n",
    "\n",
    "def preprocess_line(line, mapping):\n",
    "    result = \"\"\n",
    "    g = tokenize.generate_tokens(io.StringIO(line).readline)\n",
    "    prev_end_col = 0\n",
    "    for toknum, tokval, (srow, scol), (erow, ecol), _ in g:\n",
    "        # preserve original spacing\n",
    "        spaces_needed = scol - prev_end_col\n",
    "        if spaces_needed > 0:\n",
    "            result += \" \" * spaces_needed\n",
    "        # translate tokens if needed\n",
    "        tokval_translated = tokval if tokval not in mapping else mapping[tokval]\n",
    "        result += tokval_translated\n",
    "        prev_end_col = ecol\n",
    "    return result\n",
    "\n",
    "def process_code(code, mapping):\n",
    "    lines = code.split(\"\\n\")\n",
    "    result = [preprocess_line(line, mapping) if line.strip() else \"\" for line in lines]\n",
    "    return \"\\n\".join(result)\n",
    "\n",
    "\n",
    "print(process_code(code, mapping))\n"
   ]
  }
 ],
 "metadata": {
  "kernelspec": {
   "display_name": "Python 3",
   "language": "python",
   "name": "python3"
  },
  "language_info": {
   "codemirror_mode": {
    "name": "ipython",
    "version": 3
   },
   "file_extension": ".py",
   "mimetype": "text/x-python",
   "name": "python",
   "nbconvert_exporter": "python",
   "pygments_lexer": "ipython3",
   "version": "3.12.1"
  }
 },
 "nbformat": 4,
 "nbformat_minor": 2
}
